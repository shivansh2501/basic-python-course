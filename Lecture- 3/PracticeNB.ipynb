{
 "cells": [
  {
   "cell_type": "code",
   "execution_count": 2,
   "id": "516f8bd6",
   "metadata": {},
   "outputs": [
    {
     "name": "stdout",
     "output_type": "stream",
     "text": [
      "{'k1': 'Hello', 'k2': 'BBye', 'k3': 'Greetings'}\n"
     ]
    }
   ],
   "source": [
    "dict = {'k1':'Hello','k2':'BBye','k3':'Greetings'}\n",
    "\n",
    "print(dict)"
   ]
  },
  {
   "cell_type": "code",
   "execution_count": 8,
   "id": "bcefcf9a",
   "metadata": {},
   "outputs": [
    {
     "name": "stdout",
     "output_type": "stream",
     "text": [
      "Hello\n",
      "BBye\n",
      "Greetings\n"
     ]
    }
   ],
   "source": [
    "for value in dict.values():\n",
    "    print(f\"{value}\")"
   ]
  },
  {
   "cell_type": "code",
   "execution_count": 13,
   "id": "d609915f",
   "metadata": {},
   "outputs": [
    {
     "name": "stdout",
     "output_type": "stream",
     "text": [
      "100\n",
      "[17, 87, 55, 20, 38, 94, 94, 35, 5, 69, 9, 41, 78, 10, 34, 40, 46, 71, 1, 89, 63, 19, 84, 44, 55, 79, 46, 3, 86, 30, 90, 20, 4, 79, 14, 10, 3, 88, 67, 96, 16, 87, 38, 88, 48, 48, 45, 24, 69, 15, 18, 25, 71, 75, 47, 79, 15, 94, 67, 0, 61, 47, 16, 41, 40, 77, 62, 46, 20, 16, 84, 68, 14, 1, 58, 75, 54, 47, 15, 26, 100, 58, 17, 84, 70, 23, 79, 12, 10, 63, 48, 88, 45, 86, 52, 98, 79, 41, 59, 82]\n"
     ]
    }
   ],
   "source": [
    "from random import randint\n",
    "from random import shuffle\n",
    "\n",
    "new_list = []\n",
    "\n",
    "i = 0\n",
    "n = int(input())\n",
    "\n",
    "while i < n:\n",
    "    new_list.append(randint(0,100))\n",
    "    i += 1\n",
    "    \n",
    "print(new_list)"
   ]
  },
  {
   "cell_type": "code",
   "execution_count": 16,
   "id": "f5343777",
   "metadata": {},
   "outputs": [
    {
     "name": "stdout",
     "output_type": "stream",
     "text": [
      "Enter a number bro: 25\n",
      "[0, 1, 4, 9, 16, 25, 36, 49, 64, 81, 100, 121, 144, 169, 196, 225, 256, 289, 324, 361, 400, 441, 484, 529, 576]\n"
     ]
    }
   ],
   "source": [
    "number = int(input(\"Enter a number bro: \"))\n",
    "\n",
    "new_list = [x**2 for x in range(number)]\n",
    "\n",
    "print(new_list)"
   ]
  },
  {
   "cell_type": "code",
   "execution_count": null,
   "id": "7b061fa2",
   "metadata": {},
   "outputs": [],
   "source": []
  }
 ],
 "metadata": {
  "kernelspec": {
   "display_name": "Python 3 (ipykernel)",
   "language": "python",
   "name": "python3"
  },
  "language_info": {
   "codemirror_mode": {
    "name": "ipython",
    "version": 3
   },
   "file_extension": ".py",
   "mimetype": "text/x-python",
   "name": "python",
   "nbconvert_exporter": "python",
   "pygments_lexer": "ipython3",
   "version": "3.11.4"
  }
 },
 "nbformat": 4,
 "nbformat_minor": 5
}
