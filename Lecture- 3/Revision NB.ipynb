{
 "cells": [
  {
   "cell_type": "code",
   "execution_count": null,
   "id": "649302a8-f725-4647-8a45-a7ab7be50280",
   "metadata": {},
   "outputs": [],
   "source": []
  }
 ],
 "metadata": {
  "kernelspec": {
   "display_name": "",
   "name": ""
  },
  "language_info": {
   "name": ""
  }
 },
 "nbformat": 4,
 "nbformat_minor": 5
}
